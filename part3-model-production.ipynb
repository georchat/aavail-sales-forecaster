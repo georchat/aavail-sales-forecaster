{
 "cells": [
  {
   "cell_type": "markdown",
   "metadata": {},
   "source": [
    "<img src=\"./documentation/images/ibm-logo.png\" alt=\"ibm-logo\" align=\"center\" style=\"width: 200px;\"/>\n",
    "\n",
    "**AI ENTERPRISE WORKFLOW CERTIFICATION**\n",
    "\n",
    "<hr />\n",
    "\n",
    "### Capstone Project - Model Production"
   ]
  },
  {
   "cell_type": "markdown",
   "metadata": {},
   "source": [
    "# Outline"
   ]
  },
  {
   "cell_type": "markdown",
   "metadata": {},
   "source": [
    "1. Build a draft version of an API with train, predict, and logfile endpoints.\n",
    "2. Using Docker, bundle your API, model, and unit tests.\n",
    "3. Using test-driven development iterate on your API in a way that anticipates scale, load, and drift.\n",
    "4. Create a post-production analysis script that investigates the relationship between model performance and the business metric.\n",
    "5. Articulate your summarized findings in a final report.\n",
    "\n",
    "At a higher level you are being asked to:\n",
    "\n",
    "1. Ready your model for deployment\n",
    "2. Query your API with new data and test your monitoring tools\n",
    "3. Compare your results to the gold standard"
   ]
  },
  {
   "cell_type": "markdown",
   "metadata": {},
   "source": [
    "# Deliverables"
   ]
  },
  {
   "cell_type": "markdown",
   "metadata": {},
   "source": [
    "### Create a flask API"
   ]
  },
  {
   "cell_type": "code",
   "execution_count": 1,
   "metadata": {},
   "outputs": [
    {
     "name": "stdout",
     "output_type": "stream",
     "text": [
      "Overwriting app.py\n"
     ]
    }
   ],
   "source": [
    "%%writefile app.py\n",
    "\n",
    "import argparse\n",
    "from flask import Flask, jsonify, request\n",
    "from flask import render_template\n",
    "import joblib\n",
    "import socket\n",
    "import json\n",
    "import numpy as np\n",
    "import pandas as pd\n",
    "import os\n",
    "\n",
    "## import model specific functions and variables\n",
    "from modelling import *\n",
    "from logger import *\n",
    "\n",
    "app = Flask(__name__)\n",
    "\n",
    "@app.route(\"/\")\n",
    "def hello():\n",
    "    html = \"<h3>Hello {name}!</h3>\" \\\n",
    "           \"<b>Hostname:</b> {hostname}<br/>\"\n",
    "    return html.format(name=os.getenv(\"NAME\", \"world\"), hostname=socket.gethostname())\n",
    "\n",
    "@app.route('/predict', methods=['GET','POST'])\n",
    "def predict():\n",
    "    \"\"\"\n",
    "    basic predict function for the API\n",
    "    \"\"\"\n",
    "    \n",
    "    ## input checking\n",
    "    if not request.json:\n",
    "        print(\"ERROR: API (predict): did not receive request data\")\n",
    "        return jsonify([])\n",
    "    \n",
    "    if 'country' not in request.json:\n",
    "        print(\"ERROR API (predict): received request, but no 'country' found within\")\n",
    "        return jsonify(False)\n",
    "        \n",
    "    if 'year' not in request.json:\n",
    "        print(\"ERROR API (predict): received request, but no 'year' found within\")\n",
    "        return jsonify(False)\n",
    "        \n",
    "    if 'month' not in request.json:\n",
    "        print(\"ERROR API (predict): received request, but no 'month' found within\")\n",
    "        return jsonify(False)\n",
    "        \n",
    "    if 'day' not in request.json:\n",
    "        print(\"ERROR API (predict): received request, but no 'day' found within\")\n",
    "        return jsonify(False)\n",
    "    \n",
    "    if 'dev' not in request.json:\n",
    "        print(\"ERROR API (predict): received request, but no 'dev' found within\")\n",
    "        return jsonify([])\n",
    "    \n",
    "    if 'verbose' not in request.json:\n",
    "        print(\"WARNING API (predict): received request, but no 'verbose' found within\")\n",
    "        verbose = 'True'\n",
    "    else:\n",
    "        verbose = request.json['verbose']\n",
    "        \n",
    "    ## predict\n",
    "    _result = result = model_predict(year=request.json['year'],\n",
    "                                     month=request.json['month'],\n",
    "                                     day=request.json['day'],\n",
    "                                     country=request.json['country'],\n",
    "                                     dev=request.json['dev']==\"True\",\n",
    "                                     verbose=verbose==\"True\")\n",
    "    \n",
    "    result = {}\n",
    "    ## convert numpy objects so ensure they are serializable\n",
    "    for key,item in _result.items():\n",
    "        if isinstance(item,np.ndarray):\n",
    "            result[key] = item.tolist()\n",
    "        else:\n",
    "            result[key] = item\n",
    "\n",
    "    return(jsonify(result))\n",
    "\n",
    "@app.route('/train', methods=['GET','POST'])\n",
    "def train():\n",
    "    \"\"\"\n",
    "    basic train function for the API\n",
    "\n",
    "    the 'dev' give you the ability to toggle between a DEV version and a PROD verion of training\n",
    "    \"\"\"\n",
    "\n",
    "    if not request.json:\n",
    "        print(\"ERROR: API (train): did not receive request data\")\n",
    "        return jsonify(False)\n",
    "\n",
    "    if 'dev' not in request.json:\n",
    "        print(\"ERROR API (train): received request, but no 'dev' found within\")\n",
    "        return jsonify(False)\n",
    "    \n",
    "    if 'verbose' not in request.json:\n",
    "        print(\"WARNING API (predict): received request, but no 'verbose' found within\")\n",
    "        verbose = 'True'\n",
    "    else:\n",
    "        verbose = request.json['verbose']\n",
    "\n",
    "    print(\"... training model\")\n",
    "    model = model_train(dev=request.json['dev']==\"True\", verbose=verbose==\"True\")\n",
    "    print(\"... training complete\")\n",
    "\n",
    "    return(jsonify(True))\n",
    "\n",
    "@app.route('/logging', methods=['GET','POST'])\n",
    "def load_logs():\n",
    "    \"\"\"\n",
    "    basic logging function for the API\n",
    "    \"\"\"\n",
    "\n",
    "    if not request.json:\n",
    "        print(\"ERROR: API (train): did not receive request data\")\n",
    "        return jsonify(False)\n",
    "\n",
    "    if 'env' not in request.json:\n",
    "        print(\"ERROR API (log): received request, but no 'env' found within\")\n",
    "        return jsonify(False)\n",
    "        \n",
    "    if 'type' not in request.json:\n",
    "        print(\"ERROR API (log): received request, but no 'type' found within\")\n",
    "        return jsonify(False)\n",
    "        \n",
    "    if 'month' not in request.json:\n",
    "        print(\"ERROR API (log): received request, but no 'month' found within\")\n",
    "        return jsonify(False)\n",
    "        \n",
    "    if 'year' not in request.json:\n",
    "        print(\"ERROR API (log): received request, but no 'year' found within\")\n",
    "        return jsonify(False)\n",
    "    \n",
    "    print(\"... fetching logfile\")\n",
    "    logfile = log_load(env=request.json['env'],\n",
    "                       tag=request.json['type'],\n",
    "                       year=request.json['year'],\n",
    "                       month=request.json['month'])\n",
    "    \n",
    "    result = {}\n",
    "    result[\"logfile\"]=logfile\n",
    "    return(jsonify(result))\n",
    "\n",
    "if __name__ == '__main__':\n",
    "\n",
    "    ## parse arguments for debug mode\n",
    "    ap = argparse.ArgumentParser()\n",
    "    ap.add_argument(\"-d\", \"--debug\", action=\"store_true\", help=\"debug flask\")\n",
    "    args = vars(ap.parse_args())\n",
    "\n",
    "    if args[\"debug\"]:\n",
    "        app.run(debug=True, port=8080)\n",
    "    else:\n",
    "        app.run(host='0.0.0.0', threaded=True ,port=8080)"
   ]
  },
  {
   "cell_type": "markdown",
   "metadata": {},
   "source": [
    "**Test the Flask API**"
   ]
  },
  {
   "cell_type": "markdown",
   "metadata": {},
   "source": [
    "From the project directory I started the app:\n",
    "\n",
    "```bash\n",
    "$ python app.py\n",
    "```\n",
    "\n",
    "Then went to [http://localhost:8080/](http://localhost:8080/).\n",
    "\n",
    "I ran the cells below"
   ]
  },
  {
   "cell_type": "code",
   "execution_count": 2,
   "metadata": {},
   "outputs": [
    {
     "name": "stdout",
     "output_type": "stream",
     "text": [
      "{'y_pred': [183770.3050000001]}\n"
     ]
    }
   ],
   "source": [
    "## API predict\n",
    "import requests\n",
    "from ast import literal_eval\n",
    "\n",
    "query = {\"year\":\"2018\",\"month\":\"1\",\"day\":\"5\",\"country\":\"total\",\"dev\":\"True\",\"verbose\":\"True\"}\n",
    "port = 8080\n",
    "r = requests.post('http://localhost:{}/predict'.format(port),json=query)\n",
    "response = literal_eval(r.text)\n",
    "print(response)"
   ]
  },
  {
   "cell_type": "code",
   "execution_count": 3,
   "metadata": {},
   "outputs": [],
   "source": [
    "## API train\n",
    "query = {\"dev\":\"True\",\"verbose\":\"True\"}\n",
    "port = 8080\n",
    "r = requests.post('http://localhost:{}/train'.format(port),json=query)"
   ]
  },
  {
   "cell_type": "code",
   "execution_count": 4,
   "metadata": {},
   "outputs": [
    {
     "name": "stdout",
     "output_type": "stream",
     "text": [
      "{'logfile': 'test-train-2020-5.log'}\n"
     ]
    }
   ],
   "source": [
    "## API logging\n",
    "query = {\"env\":\"test\",\"type\":\"train\",\"year\":\"2020\",\"month\":\"5\"}\n",
    "port = 8080\n",
    "r = requests.post('http://localhost:{}/logging'.format(port),json=query)\n",
    "response = literal_eval(r.text)\n",
    "print(response)"
   ]
  },
  {
   "cell_type": "markdown",
   "metadata": {},
   "source": [
    "I stopped the server.  We will relaunch it in a few moments from within Docker."
   ]
  },
  {
   "cell_type": "markdown",
   "metadata": {},
   "source": [
    "### Create Unit Tests"
   ]
  },
  {
   "cell_type": "code",
   "execution_count": 5,
   "metadata": {},
   "outputs": [
    {
     "name": "stdout",
     "output_type": "stream",
     "text": [
      "Overwriting ./unittests/__init__.py\n"
     ]
    }
   ],
   "source": [
    "%%writefile ./unittests/__init__.py\n",
    "\n",
    "import unittest\n",
    "import getopt\n",
    "import sys\n",
    "import os\n",
    "\n",
    "## parse inputs\n",
    "try:\n",
    "    optlist, args = getopt.getopt(sys.argv[1:],'v')\n",
    "except getopt.GetoptError:\n",
    "    print(getopt.GetoptError)\n",
    "    print(sys.argv[0] + \"-v\")\n",
    "    print(\"... the verbose flag (-v) may be used\")\n",
    "    sys.exit()\n",
    "\n",
    "VERBOSE = False\n",
    "RUNALL = False\n",
    "\n",
    "sys.path.append(os.path.realpath(os.path.dirname(__file__)))\n",
    "\n",
    "for o, a in optlist:\n",
    "    if o == '-v':\n",
    "        VERBOSE = True\n",
    "\n",
    "## api tests\n",
    "from ApiTests import *\n",
    "ApiTestSuite = unittest.TestLoader().loadTestsFromTestCase(ApiTest)\n",
    "\n",
    "## model tests\n",
    "from ModelTests import *\n",
    "ModelTestSuite = unittest.TestLoader().loadTestsFromTestCase(ModelTest)\n",
    "\n",
    "## logger tests\n",
    "from LoggerTests import *\n",
    "LoggerTestSuite = unittest.TestLoader().loadTestsFromTestCase(LoggerTest)\n",
    "\n",
    "MainSuite = unittest.TestSuite([ApiTestSuite,ModelTestSuite,LoggerTestSuite])\n"
   ]
  },
  {
   "cell_type": "code",
   "execution_count": 6,
   "metadata": {},
   "outputs": [
    {
     "name": "stdout",
     "output_type": "stream",
     "text": [
      "Overwriting ./unittests/ModelTests.py\n"
     ]
    }
   ],
   "source": [
    "%%writefile ./unittests/ModelTests.py\n",
    "#!/usr/bin/env python\n",
    "\n",
    "\"\"\"\n",
    "model tests\n",
    "\"\"\"\n",
    "\n",
    "import unittest\n",
    "from modelling import *\n",
    "\n",
    "class ModelTest(unittest.TestCase):\n",
    "    \"\"\"\n",
    "    test the essential functionality\n",
    "    \"\"\"\n",
    "    \n",
    "    def test_01_train(self):\n",
    "        \"\"\"\n",
    "        test the train functionality\n",
    "        \"\"\"\n",
    "    \n",
    "        ## train the model\n",
    "        model_train(verbose=False)\n",
    "        \n",
    "        prefix = \"test\" if DEV else \"prod\"\n",
    "        models = [f for f in os.listdir(MODEL_DIR) if re.search(prefix,f)]\n",
    "        self.assertEqual(len(models),11)\n",
    "        \n",
    "    def test_02_load(self):\n",
    "        \"\"\"\n",
    "        test the train functionality\n",
    "        \"\"\"\n",
    "        \n",
    "        ## load the model\n",
    "        models = model_load(verbose=False)\n",
    "        \n",
    "        for tag, model in models.items():\n",
    "            self.assertTrue(\"predict\" in dir(model))\n",
    "            self.assertTrue(\"fit\" in dir(model))\n",
    "        \n",
    "    def test_03_predict(self):\n",
    "        \"\"\"\n",
    "        test the predict function input\n",
    "        \"\"\"\n",
    "    \n",
    "        ## query inputs\n",
    "        query = \"2018\", \"1\", \"5\", \"total\"\n",
    "        \n",
    "        ## load model first\n",
    "        result = model_predict(year=query[0], month=query[1], day=query[2], country=query[3], verbose=False)\n",
    "        y_pred = result[\"y_pred\"]\n",
    "        self.assertTrue(y_pred.dtype==np.float64)\n",
    "            \n",
    "    def test_04_predict(self):\n",
    "        \"\"\"\n",
    "        test the predict function accuracy\n",
    "        \"\"\"\n",
    "    \n",
    "        ## example predict\n",
    "        example_queries = [(\"2018\", \"1\", \"5\", \"total\"),\n",
    "                           (\"2019\", \"2\", \"5\", \"eire\"),\n",
    "                           (\"2018\", \"12\", \"5\", \"france\")]\n",
    "        \n",
    "        for query in example_queries:\n",
    "            result = model_predict(year=query[0], month=query[1], day=query[2], country=query[3], verbose=False)\n",
    "            y_pred = result[\"y_pred\"]\n",
    "            self.assertTrue(y_pred.dtype==np.float64)\n",
    "            \n",
    "## run the tests\n",
    "if __name__ == \"__main__\":\n",
    "    unittest.main()"
   ]
  },
  {
   "cell_type": "code",
   "execution_count": 7,
   "metadata": {},
   "outputs": [
    {
     "name": "stderr",
     "output_type": "stream",
     "text": [
      "....\n",
      "----------------------------------------------------------------------\n",
      "Ran 4 tests in 112.186s\n",
      "\n",
      "OK\n"
     ]
    }
   ],
   "source": [
    "%run ./unittests/ModelTests.py"
   ]
  },
  {
   "cell_type": "code",
   "execution_count": 8,
   "metadata": {},
   "outputs": [
    {
     "name": "stdout",
     "output_type": "stream",
     "text": [
      "Overwriting ./unittests/LoggerTests.py\n"
     ]
    }
   ],
   "source": [
    "%%writefile ./unittests/LoggerTests.py\n",
    "#!/usr/bin/env python\n",
    "\"\"\"\n",
    "logger tests\n",
    "\"\"\"\n",
    "\n",
    "import unittest\n",
    "## import model specific functions and variables\n",
    "from logger import *\n",
    "\n",
    "class LoggerTest(unittest.TestCase):\n",
    "    \"\"\"\n",
    "    test the essential log functionality\n",
    "    \"\"\"\n",
    "        \n",
    "    def test_01_train(self):\n",
    "        \"\"\"\n",
    "        test the train functionality\n",
    "        \"\"\"\n",
    "\n",
    "        ## train logfile\n",
    "        today = date.today()\n",
    "        logfile = \"{}-train-{}-{}.log\".format(\"test\",today.year,today.month)\n",
    "        log_path = os.path.join(LOG_DIR, logfile)\n",
    "        \n",
    "        self.assertTrue(os.path.exists(log_path))\n",
    "\n",
    "    def test_02_predict(self):\n",
    "        \"\"\"\n",
    "        test the predict functionality\n",
    "        \"\"\"\n",
    "        \n",
    "        ## train logfile\n",
    "        today = date.today()\n",
    "        logfile = \"{}-predict-{}-{}.log\".format(\"test\",today.year,today.month)\n",
    "        log_path = os.path.join(LOG_DIR, logfile)\n",
    "        \n",
    "        self.assertTrue(os.path.exists(log_path))\n",
    "\n",
    "    def test_03_load(self):\n",
    "        \"\"\"\n",
    "        test the load functionality\n",
    "        \"\"\"\n",
    "\n",
    "        ## load model first\n",
    "        logfile = log_load(env=\"test\",tag=\"train\",year=2020,month=5, verbose=False)\n",
    "        logpath = os.path.join(LOG_DIR, logfile)\n",
    "        with open(logpath, \"r\") as log:\n",
    "            text = log.read()\n",
    "        self.assertTrue(len(text.split(\"\\n\"))>2)\n",
    "\n",
    "        \n",
    "### Run the tests\n",
    "if __name__ == '__main__':\n",
    "    unittest.main()\n"
   ]
  },
  {
   "cell_type": "code",
   "execution_count": 9,
   "metadata": {},
   "outputs": [
    {
     "name": "stderr",
     "output_type": "stream",
     "text": [
      "...\n",
      "----------------------------------------------------------------------\n",
      "Ran 3 tests in 0.035s\n",
      "\n",
      "OK\n"
     ]
    }
   ],
   "source": [
    "%run ./unittests/LoggerTests.py"
   ]
  },
  {
   "cell_type": "code",
   "execution_count": 10,
   "metadata": {},
   "outputs": [
    {
     "name": "stdout",
     "output_type": "stream",
     "text": [
      "Overwriting ./unittests/ApiTests.py\n"
     ]
    }
   ],
   "source": [
    "%%writefile ./unittests/ApiTests.py\n",
    "#!/usr/bin/env python\n",
    "\"\"\"\n",
    "api tests\n",
    "\n",
    "these tests use the requests package however similar requests can be made with curl\n",
    "\n",
    "e.g.\n",
    "data = '{\"key\":\"value\"}'\n",
    "curl -X POST -H \"Content-Type: application/json\" -d \"%s\" http://localhost:8080/predict'%(data)\n",
    "\"\"\"\n",
    "\n",
    "import sys\n",
    "import os\n",
    "import unittest\n",
    "import requests\n",
    "import re\n",
    "from ast import literal_eval\n",
    "import numpy as np\n",
    "import pandas as pd\n",
    "\n",
    "port = 8080\n",
    "\n",
    "try:\n",
    "    requests.post('http://localhost:{}/predict'.format(port))\n",
    "    server_available = True\n",
    "except:\n",
    "    server_available = False\n",
    "    \n",
    "## test class for the main window function\n",
    "class ApiTest(unittest.TestCase):\n",
    "    \"\"\"\n",
    "    test the essential functionality\n",
    "    \"\"\"\n",
    "    \n",
    "    @unittest.skipUnless(server_available,\"local server is not running\")\n",
    "    def test_predict(self):\n",
    "        \"\"\"\n",
    "        test the predict functionality\n",
    "        \"\"\"\n",
    "        \n",
    "        query = {\"year\":\"2018\",\"month\":\"1\",\"day\":\"5\",\"country\":\"total\",\"dev\":\"True\",\"verbose\":\"True\"}\n",
    "        r = requests.post('http://localhost:{}/predict'.format(port),json=query)\n",
    "        response = literal_eval(r.text)\n",
    "        self.assertTrue(isinstance(response[\"y_pred\"][0], float))\n",
    "\n",
    "    @unittest.skipUnless(server_available,\"local server is not running\")\n",
    "    def test_train(self):\n",
    "        \"\"\"\n",
    "        test the train functionality\n",
    "        \"\"\"\n",
    "      \n",
    "        query = {\"dev\":\"True\",\"verbose\":\"False\"}\n",
    "        r = requests.post('http://localhost:{}/train'.format(port),json=query)\n",
    "        train_complete = re.sub(\"\\W+\",\"\",r.text)\n",
    "        self.assertEqual(train_complete,'true')\n",
    "        \n",
    "    @unittest.skipUnless(server_available,\"local server is not running\")\n",
    "    def test_logging(self):\n",
    "        \"\"\"\n",
    "        test the logging functionality\n",
    "        \"\"\"\n",
    "        \n",
    "        query = {\"env\":\"test\",\"type\":\"train\",\"year\":\"2020\",\"month\":\"5\"}\n",
    "        r = requests.post('http://localhost:{}/logging'.format(port),json=query)\n",
    "        response = literal_eval(r.text)\n",
    "        self.assertEqual(response.get(\"logfile\"),'test-train-2020-5.log')\n",
    "\n",
    "### Run the tests\n",
    "if __name__ == '__main__':\n",
    "    unittest.main()"
   ]
  },
  {
   "cell_type": "code",
   "execution_count": 11,
   "metadata": {},
   "outputs": [
    {
     "name": "stderr",
     "output_type": "stream",
     "text": [
      "...\n",
      "----------------------------------------------------------------------\n",
      "Ran 3 tests in 100.579s\n",
      "\n",
      "OK\n"
     ]
    }
   ],
   "source": [
    "%run ./unittests/ApiTests.py"
   ]
  },
  {
   "cell_type": "code",
   "execution_count": 12,
   "metadata": {},
   "outputs": [
    {
     "name": "stdout",
     "output_type": "stream",
     "text": [
      "Overwriting run-tests.py\n"
     ]
    }
   ],
   "source": [
    "%%writefile run-tests.py\n",
    "#!/usr/bin/python \n",
    "\n",
    "import sys\n",
    "import unittest\n",
    "\n",
    "from unittests import *\n",
    "unittest.main()"
   ]
  },
  {
   "cell_type": "markdown",
   "metadata": {},
   "source": [
    "**Run Unit Tests with a single script**"
   ]
  },
  {
   "cell_type": "markdown",
   "metadata": {},
   "source": [
    "```bash\n",
    "    ~$ python run-tests.py\n",
    "```"
   ]
  },
  {
   "cell_type": "markdown",
   "metadata": {},
   "source": [
    "### Docker Container"
   ]
  },
  {
   "cell_type": "markdown",
   "metadata": {},
   "source": [
    "**Create Docker File**\n",
    "\n",
    "Before we build the DockerFile first we need to create a requirement.txt"
   ]
  },
  {
   "cell_type": "code",
   "execution_count": 13,
   "metadata": {},
   "outputs": [
    {
     "name": "stdout",
     "output_type": "stream",
     "text": [
      "Overwriting requirements.txt\n"
     ]
    }
   ],
   "source": [
    "%%writefile requirements.txt\n",
    "\n",
    "cython\n",
    "numpy\n",
    "flask\n",
    "pandas\n",
    "scikit-learn\n",
    "matplotlib\n",
    "IPython\n",
    "seaborn"
   ]
  },
  {
   "cell_type": "code",
   "execution_count": 14,
   "metadata": {},
   "outputs": [
    {
     "name": "stdout",
     "output_type": "stream",
     "text": [
      "Overwriting Dockerfile\n"
     ]
    }
   ],
   "source": [
    "%%writefile Dockerfile\n",
    "\n",
    "# Use an official Python runtime as a parent image\n",
    "FROM python:3.7.5-stretch\n",
    "\n",
    "RUN apt-get update && apt-get install -y \\\n",
    "python3-dev \\\n",
    "build-essential    \n",
    "        \n",
    "# Set the working directory to /app\n",
    "WORKDIR /app\n",
    "\n",
    "# Copy the current directory contents into the container at /app\n",
    "ADD . /app\n",
    "\n",
    "# Install any needed packages specified in requirements.txt\n",
    "RUN pip install --upgrade pip\n",
    "RUN pip install --no-cache-dir -r requirements.txt\n",
    "\n",
    "# Make port 80 available to the world outside this container\n",
    "EXPOSE 80\n",
    "\n",
    "# Define environment variable\n",
    "ENV NAME World\n",
    "\n",
    "# Run app.py when the container launches\n",
    "CMD [\"python\", \"app.py\"]"
   ]
  },
  {
   "cell_type": "markdown",
   "metadata": {},
   "source": [
    "**Build the Docker image and run it**\n",
    "\n",
    "Step one: build the image (from the directory that was created with this notebook)\n",
    " \n",
    "```bash\n",
    "    ~$ docker build -t capstone-ml-app .\n",
    "```\n",
    "\n",
    "Check that the image is there.\n",
    "\n",
    "```bash\n",
    "    ~$ docker image ls\n",
    "```\n",
    "\n",
    "You may notice images that you no longer use.  You may delete them with\n",
    "\n",
    "```bash\n",
    "    ~$ docker image rm IMAGE_ID_OR_NAME\n",
    "```\n",
    "\n",
    "Run the container\n",
    "\n",
    "```bash\n",
    "docker run -p 4000:8080 capstone-ml-app\n",
    "```"
   ]
  },
  {
   "cell_type": "markdown",
   "metadata": {},
   "source": [
    "**Test the running app**\n",
    "\n",
    "First go to [http://localhost:4000/](http://localhost:4000/) to ensure the app is running and accessible."
   ]
  },
  {
   "cell_type": "code",
   "execution_count": 15,
   "metadata": {},
   "outputs": [
    {
     "name": "stdout",
     "output_type": "stream",
     "text": [
      "{'y_pred': [183770.3050000001]}\n"
     ]
    }
   ],
   "source": [
    "## API predict\n",
    "\n",
    "query = {\"year\":\"2018\",\"month\":\"1\",\"day\":\"5\",\"country\":\"total\",\"dev\":\"True\",\"verbose\":\"True\"}\n",
    "port = 4000\n",
    "r = requests.post('http://localhost:{}/predict'.format(port),json=query)\n",
    "response = literal_eval(r.text)\n",
    "print(response)"
   ]
  },
  {
   "cell_type": "code",
   "execution_count": 16,
   "metadata": {},
   "outputs": [
    {
     "name": "stdout",
     "output_type": "stream",
     "text": [
      "{'logfile': 'test-train-2020-5.log'}\n"
     ]
    }
   ],
   "source": [
    "## API logging\n",
    "\n",
    "query = {\"env\":\"test\",\"type\":\"train\",\"year\":\"2020\",\"month\":\"5\"}\n",
    "port = 4000\n",
    "r = requests.post('http://localhost:{}/logging'.format(port),json=query)\n",
    "response = literal_eval(r.text)\n",
    "print(response)"
   ]
  },
  {
   "cell_type": "markdown",
   "metadata": {},
   "source": [
    "### Post Production Analysis"
   ]
  },
  {
   "cell_type": "code",
   "execution_count": null,
   "metadata": {},
   "outputs": [],
   "source": []
  }
 ],
 "metadata": {
  "kernelspec": {
   "display_name": "Python 3",
   "language": "python",
   "name": "python3"
  },
  "language_info": {
   "codemirror_mode": {
    "name": "ipython",
    "version": 3
   },
   "file_extension": ".py",
   "mimetype": "text/x-python",
   "name": "python",
   "nbconvert_exporter": "python",
   "pygments_lexer": "ipython3",
   "version": "3.7.7"
  }
 },
 "nbformat": 4,
 "nbformat_minor": 4
}
